{
  "cells": [
    {
      "cell_type": "markdown",
      "metadata": {
        "id": "HO7glCi_v97D"
      },
      "source": [
        "# Reto 1: Programacion orientada a objetos\n",
        "## Objetivos:\n",
        "    - Practicar la creacion de clases en Python\n",
        "    - Practicar el concepto de abstraccion\n",
        "    - Practicar el concepto de encapsulamiento"
      ]
    },
    {
      "cell_type": "markdown",
      "metadata": {
        "id": "k6IrvXo7wLXe"
      },
      "source": [
        "Crea una clase llamada `Circulo` la cual tenga como metodos `calcular_area` y `calcular_perimetro` intenta hacer la clase lo mas completa posible, es decir: \n",
        "+ Debes validar que el radio sea mayor a 0 y en caso de que no el dafault sera 0. \n",
        "+ Agregar documentacion \n",
        "+ El radio sea un atributo privado el cual al modificarlo tambien debe hacer la validacion de nuevo\n",
        "- Tambien debes tener 1 atributo de clase que te cuente el numero de circulos que haz creado\n",
        "- Debes hacer un metodo de clase que te permita crear el circulo a partir del diametro"
      ]
    },
    {
      "cell_type": "code",
      "execution_count": null,
      "metadata": {
        "id": "WM8VXPqgv0D2"
      },
      "outputs": [],
      "source": [
        "# Tu codigo va aqui\n",
        "#     .\n",
        "#     .\n",
        "#     .\n",
        "#     ."
      ]
    },
    {
      "cell_type": "code",
      "execution_count": 5,
      "metadata": {
        "id": "XLluGu0z42JQ"
      },
      "outputs": [
        {
          "name": "stdout",
          "output_type": "stream",
          "text": [
            " <bound method Circulo.calcular_area of <__main__.Circulo object at 0x0000019CC0D3F310>>\n",
            " <bound method Circulo.calcular_perimetro of <__main__.Circulo object at 0x0000019CC0D3F310>>\n"
          ]
        }
      ],
      "source": [
        "class Circulo():\n",
        "    numCirculo = 0\n",
        "    def __init__(self,radio):\n",
        "        self.__radio = radio\n",
        "    #Esta funcion sirve para verificar si el valor introducido es mayor o igual 0 o si se introduce un NULL (None) poner como default que vale 0\n",
        "    def verificar(self):\n",
        "        if (self.__radio >= 0):\n",
        "            print(\"Tienete que tener un valor mañor a 0\")\n",
        "        elif (self.__radio == None):\n",
        "            self.__radio = 0\n",
        "    #Se crea el metodo para hacer el calculo del area del circulo \n",
        "    def calcular_area (self,r):\n",
        "        pi = 3.14159265359\n",
        "        self.__radio = r\n",
        "        a = pi*r**2\n",
        "        return print(\"El area es: \"+ a)\n",
        "    #Se crea el metodo para hacer el calculo del perimetro del circulo \n",
        "    def calcular_perimetro(self,r):\n",
        "        pi = 3.14159265359\n",
        "        self.__radio = r \n",
        "        p = 2*pi*r\n",
        "        return print(\"El perimetro es: \"+ p)\n",
        "    \n",
        "circulo = Circulo(23)\n",
        "print(\"\",circulo.calcular_area)\n",
        "print(\"\",circulo.calcular_perimetro)\n"
      ]
    }
  ],
  "metadata": {
    "colab": {
      "name": "reto_programacion_orientada_a_objetos.ipynb",
      "provenance": []
    },
    "interpreter": {
      "hash": "fb43691f9c18fe75e728d3e6aa1dcec0559cdc2b8a26709f64dd3325023cb642"
    },
    "kernelspec": {
      "display_name": "Python 3.10.0 64-bit",
      "name": "python3"
    },
    "language_info": {
      "codemirror_mode": {
        "name": "ipython",
        "version": 3
      },
      "file_extension": ".py",
      "mimetype": "text/x-python",
      "name": "python",
      "nbconvert_exporter": "python",
      "pygments_lexer": "ipython3",
      "version": "3.10.0"
    }
  },
  "nbformat": 4,
  "nbformat_minor": 0
}
